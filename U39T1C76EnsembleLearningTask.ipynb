{
  "nbformat": 4,
  "nbformat_minor": 0,
  "metadata": {
    "colab": {
      "provenance": [],
      "authorship_tag": "ABX9TyMBAs+UPVCvaA7HpVLZAmar",
      "include_colab_link": true
    },
    "kernelspec": {
      "name": "python3",
      "display_name": "Python 3"
    },
    "language_info": {
      "name": "python"
    }
  },
  "cells": [
    {
      "cell_type": "markdown",
      "metadata": {
        "id": "view-in-github",
        "colab_type": "text"
      },
      "source": [
        "<a href=\"https://colab.research.google.com/github/IvanOM-97/DPro-Exercises/blob/master/U39T1C76EnsembleLearningTask.ipynb\" target=\"_parent\"><img src=\"https://colab.research.google.com/assets/colab-badge.svg\" alt=\"Open In Colab\"/></a>"
      ]
    },
    {
      "cell_type": "code",
      "execution_count": null,
      "metadata": {
        "id": "SH7BKIx13TUS"
      },
      "outputs": [],
      "source": [
        "'''\n",
        "APRENDIZAJE POR CONJUNTOS (combinacion de multiples modelos)\n",
        "\n",
        "'''"
      ]
    },
    {
      "cell_type": "code",
      "source": [
        "# loading and preparing regresion dataset to be used\n",
        "import pandas as pd\n",
        "import numpy as np\n",
        "from sklearn.model_selection import train_test_split\n",
        "from sklearn.preprocessing import StandardScaler\n",
        "from sklearn.linear_model import LinearRegression\n",
        "from sklearn.tree import DecisionTreeRegressor\n",
        "from sklearn.svm import SVR\n",
        "from sklearn.metrics import mean_squared_error\n",
        "\n",
        "# loading train.csv\n",
        "#from google.colab import files\n",
        "#uploaded = files.upload()\n",
        "\n",
        "df = pd.read_csv('train.csv')\n",
        "X = df[['GrLivArea', 'YearBuilt']].values\n",
        "y = df['SalePrice'].values\n",
        "\n",
        "# dividing train.csv into 80% of training data and 20% of verification data\n",
        "X_train, X_val, y_train, y_val = train_test_split(X, y, train_size=0.8, random_state=0)\n",
        "\n",
        "print(f\"training size: {X_train.shape}, validation size: {X_val.shape}\")"
      ],
      "metadata": {
        "colab": {
          "base_uri": "https://localhost:8080/"
        },
        "id": "CwmX2EJ6uGQd",
        "outputId": "ae1aa8c5-d295-4e98-975d-81ca5dc1770a"
      },
      "execution_count": 3,
      "outputs": [
        {
          "output_type": "stream",
          "name": "stdout",
          "text": [
            "training size: (1168, 2), validation size: (292, 2)\n"
          ]
        }
      ]
    },
    {
      "cell_type": "code",
      "source": [
        "# PROBLEMA 1 - EJEMPLO DE IMPLEMENTACION DE BLENDING\n",
        "# fitting different models\n",
        "model1 = LinearRegression()\n",
        "model2 = SVR(kernel='rbf', C=1e3, gamma=0.1)\n",
        "model3 = DecisionTreeRegressor(max_depth=5, random_state=0)\n",
        "\n",
        "model1.fit(X_train, y_train)\n",
        "model2.fit(X_train, y_train)\n",
        "model3.fit(X_train, y_train)\n",
        "\n",
        "# predicting on validation set\n",
        "pred1 = model1.predict(X_val)\n",
        "pred2 = model2.predict(X_val)\n",
        "pred3 = model3.predict(X_val)\n",
        "\n",
        "# blending: simple average\n",
        "blend_pred = (pred1 + pred2 + pred3) / 3\n",
        "\n",
        "# evaluating\n",
        "mse1 = mean_squared_error(y_val, pred1)\n",
        "mse2 = mean_squared_error(y_val, pred2)\n",
        "mse3 = mean_squared_error(y_val, pred3)\n",
        "mse_blended = mean_squared_error(y_val, blend_pred)\n",
        "\n",
        "print(\"\\n[blending results]\")\n",
        "print(f\"linear regression mse: {mse1}\")\n",
        "print(f\"svr mse: {mse2}\")\n",
        "print(f\"decision tree mse: {mse3}\")\n",
        "print(f\"blended model mse: {mse_blended}\")"
      ],
      "metadata": {
        "colab": {
          "base_uri": "https://localhost:8080/"
        },
        "id": "f7873Tun3WPo",
        "outputId": "07d58866-c944-449f-9058-1d2aec5f039c"
      },
      "execution_count": 4,
      "outputs": [
        {
          "output_type": "stream",
          "name": "stdout",
          "text": [
            "\n",
            "[blending results]\n",
            "linear regression mse: 2942066921.6721087\n",
            "svr mse: 7206623146.120989\n",
            "decision tree mse: 2169961248.6656322\n",
            "blended model mse: 2860614890.7194366\n"
          ]
        }
      ]
    },
    {
      "cell_type": "code",
      "source": [
        "# PROBLEMA 2 - EJEMPLO DE IMPLEMENTACION DE BAGGING\n",
        "np.random.seed(0)\n",
        "n_models = 5\n",
        "bagged_preds = []\n",
        "\n",
        "for i in range(n_models):\n",
        "  # bootstrap sample\n",
        "  indices = np.random.choice(len(X_train), size=len(X_train), replace=True)\n",
        "  X_sample = X_train[indices]\n",
        "  y_sample = y_train[indices]\n",
        "\n",
        "  # using simple regresor for bagging (decision tree)\n",
        "  model = DecisionTreeRegressor(max_depth=5, random_state=i)\n",
        "  model.fit(X_sample, y_sample)\n",
        "\n",
        "  # predicting on validation set\n",
        "  pred = model.predict(X_val)\n",
        "  bagged_preds.append(pred)\n",
        "\n",
        "# average predicitions\n",
        "bagged_pred = np.mean(bagged_preds, axis=0)\n",
        "\n",
        "# evaluating\n",
        "mse_single_tree = mean_squared_error(y_val, model3.predict(X_val))\n",
        "mse_bagged = mean_squared_error(y_val, bagged_pred)\n",
        "\n",
        "print(\"\\n[bagging results]\")\n",
        "print(f\"single tree mse: {mse3}\")\n",
        "print(f\"bagged tree model mse: {mse_bagged}\")\n",
        "\n"
      ],
      "metadata": {
        "colab": {
          "base_uri": "https://localhost:8080/"
        },
        "id": "RtOX_uqkzIT0",
        "outputId": "8f117565-0a1e-49a8-b623-94bfaf54f7e2"
      },
      "execution_count": 6,
      "outputs": [
        {
          "output_type": "stream",
          "name": "stdout",
          "text": [
            "\n",
            "[bagging results]\n",
            "single tree mse: 2169961248.6656322\n",
            "bagged tree model mse: 1864051360.9653666\n"
          ]
        }
      ]
    },
    {
      "cell_type": "code",
      "source": [
        "# PROBLEMA 3 - EJEMPLO DE IMPLEMENTACION DE STACKING\n",
        "\n",
        "#stage 0:training base models\n",
        "base1 = LinearRegression()\n",
        "base2 = DecisionTreeRegressor(max_depth=5, random_state=1)\n",
        "\n",
        "base1.fit(X_train, y_train)\n",
        "base2.fit(X_train, y_train)\n",
        "\n",
        "# blended data: base model predictions (level 1 features)\n",
        "base1_train_pred = base1.predict(X_train)\n",
        "base2_train_pred = base2.predict(X_train)\n",
        "\n",
        "stacked_X_train = np.vstack((base1_train_pred, base2_train_pred)).T\n",
        "\n",
        "# stage 1: trainning meta model(simple linear regression)\n",
        "meta = LinearRegression()\n",
        "meta.fit(stacked_X_train, y_train)\n",
        "\n",
        "# applying to validation\n",
        "base1_val_pred = base1.predict(X_val)\n",
        "base2_val_pred = base2.predict(X_val)\n",
        "\n",
        "stacked_X_val = np.vstack((base1_val_pred, base2_val_pred)).T\n",
        "stacked_pred = meta.predict(stacked_X_val)\n",
        "\n",
        "# evaluating\n",
        "mse_base1 = mean_squared_error(y_val, base1_val_pred)\n",
        "mse_base2 = mean_squared_error(y_val, base2_val_pred)\n",
        "mse_stacked = mean_squared_error(y_val, stacked_pred)\n",
        "\n",
        "print(\"\\n[stacking results]\")\n",
        "print(f\"base1 linear regression mse: {mse_base1}\")\n",
        "print(f\"base2 decision tree mse: {mse_base2}\")\n",
        "print(f\"stacked model mse: {mse_stacked}\")"
      ],
      "metadata": {
        "colab": {
          "base_uri": "https://localhost:8080/"
        },
        "id": "Q8rHO3ze2F_V",
        "outputId": "797ae7bd-bdb8-4232-b36a-69a4350c61cf"
      },
      "execution_count": 8,
      "outputs": [
        {
          "output_type": "stream",
          "name": "stdout",
          "text": [
            "\n",
            "[stacking results]\n",
            "base1 linear regression mse: 2942066921.6721087\n",
            "base2 decision tree mse: 2169961248.6656322\n",
            "stacked model mse: 2192399562.22146\n"
          ]
        }
      ]
    }
  ]
}