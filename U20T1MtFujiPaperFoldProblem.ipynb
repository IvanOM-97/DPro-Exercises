{
  "nbformat": 4,
  "nbformat_minor": 0,
  "metadata": {
    "colab": {
      "provenance": [],
      "authorship_tag": "ABX9TyONuY1micGEY4oxzav++lsi",
      "include_colab_link": true
    },
    "kernelspec": {
      "name": "python3",
      "display_name": "Python 3"
    },
    "language_info": {
      "name": "python"
    }
  },
  "cells": [
    {
      "cell_type": "markdown",
      "metadata": {
        "id": "view-in-github",
        "colab_type": "text"
      },
      "source": [
        "<a href=\"https://colab.research.google.com/github/IvanOM-97/DPro-Exercises/blob/master/U20T1MtFujiPaperFoldProblem.ipynb\" target=\"_parent\"><img src=\"https://colab.research.google.com/assets/colab-badge.svg\" alt=\"Open In Colab\"/></a>"
      ]
    },
    {
      "cell_type": "code",
      "execution_count": null,
      "metadata": {
        "id": "xnDobgSMIeCJ"
      },
      "outputs": [],
      "source": [
        "'''\n",
        "PROBLEMA DE PLEGADO DE PAPEL EN EL MONTE FUJI\n",
        "  anteriormente se implemento “un programa para calcular el grosor de una hoja de papel doblada 43 veces”\n",
        "  y confirmaron que doblándola 43 veces se llegaría a la luna.\n",
        "  Ahora implementemos un programa que calcule ‘cuántos pliegues se necesitan para alcanzar el grosor deseado’.\n",
        "'''\n"
      ]
    },
    {
      "cell_type": "code",
      "source": [
        "'''PROBLEMA 1: ¿Cuántas veces hay que doblarlo para que pase por encima de Mt.\n",
        "  - Crear un programa para calcular el número mínimo de pliegues de papel\n",
        "    necesarios para que el grosor supere “la altura del monte Fuji (3776 m)”\n",
        "'''\n",
        "# Height of Mount Fuji in meters\n",
        "fuji_height = 3776\n",
        "\n",
        "# Initial paper thickness in m\n",
        "thickness = 0.00008\n",
        "folds = 0\n",
        "\n",
        "while thickness < fuji_height:\n",
        "  thickness *= 2\n",
        "  folds += 1\n",
        "\n",
        "print(f\"At least {folds} folds are needed to exceed the height of Mount Fuji.\")"
      ],
      "metadata": {
        "colab": {
          "base_uri": "https://localhost:8080/"
        },
        "id": "m8rCtOMFMCzT",
        "outputId": "66afd210-e371-489f-d086-37114bdf523c"
      },
      "execution_count": 2,
      "outputs": [
        {
          "output_type": "stream",
          "name": "stdout",
          "text": [
            "At least 26 folds are needed to exceed the height of Mount Fuji.\n"
          ]
        }
      ]
    },
    {
      "cell_type": "code",
      "source": [
        "'''PROBLEMA 2: Funciones para espesores arbitrarios.\n",
        "      - Implementar una función que, dada una altura de entrada,\n",
        "      dé como resultado el número mínimo de pliegues de papel necesarios para superarla.\n",
        "      Como argumento, también debería poder establecer el grosor antes de plegar\n",
        "      - Utilice esta función para calcular cuántas veces necesita doblar un trozo de\n",
        "      papel para llegar a la ‘estrella no solar más cercana’.\n",
        "      - La “estrella no solar más cercana” es Próxima Centauri,\n",
        "      que se encuentra aproximadamente a 4 años luz de la Tierra.\n",
        "'''\n",
        "\n",
        "def calculate_folds(target_height, initial_thickness):\n",
        "    \"\"\"\n",
        "    Calculates how many folds are needed for a sheet of paper to reach or exceed a certain height.\n",
        "\n",
        "      Parameters:\n",
        "      - target_height_mm (float): Target height in millimeters.\n",
        "      - initial_thickness_mm (float): Initial paper thickness in millimeters. Default = 0.1 mm.\n",
        "\n",
        "      Returns:\n",
        "      - int: Minimum number of folds required.\n",
        "    \"\"\"\n",
        "\n",
        "    thickness = initial_thickness\n",
        "    folds = 0\n",
        "\n",
        "    while thickness < target_height:\n",
        "        thickness *= 2\n",
        "        folds += 1\n",
        "\n",
        "    return folds\n",
        "\n",
        "\n",
        "# --------------------\n",
        "# Usamos la función para Próxima Centauri\n",
        "# --------------------\n",
        "\n",
        "# Target distance [m]\n",
        "target_distance = 10e16\n",
        "\n",
        "# Initial paper thickness [m]\n",
        "paper_thickness = 0.00008\n",
        "\n",
        "# Calculation results\n",
        "necessary_folds = calculate_folds(target_distance, paper_thickness)\n",
        "\n",
        "print(f\"At least {necessary_folds} folds are needed to reach the goal.\")"
      ],
      "metadata": {
        "colab": {
          "base_uri": "https://localhost:8080/"
        },
        "id": "8IT2WCTgMSBK",
        "outputId": "865da680-ee0a-4f6f-9e51-b486acf5189c"
      },
      "execution_count": 7,
      "outputs": [
        {
          "output_type": "stream",
          "name": "stdout",
          "text": [
            "At least 71 folds are needed to reach the goal.\n"
          ]
        }
      ]
    },
    {
      "cell_type": "code",
      "source": [
        "'''\n",
        "PROBLEMA 3: Longitud de papel requerida\n",
        "  - De hecho, el papel que nos rodea no se puede doblar 10 veces, y mucho menos 43 veces. Sin embargo, cuanto más grande es el papel, más se puede plegar, y hay una fórmula que calcula la cantidad de veces que se dobla una hoja larga de papel, como el papel higiénico, en una dirección.\n",
        "  - La longitud \"L\" del papel requerida para difractar un papel de grosor \"t\" viene dada por la siguiente fórmula.\n",
        "         L = (πt/6)(2^n + 4)(2^n - 1)\n",
        "  - Utiliza esta fórmula para implementar una función que realmente encuentre la longitud de papel necesaria para doblar el papel hasta alcanzar un grosor arbitrario.\n",
        "  - Luego use esto para averiguar la longitud de papel necesaria para llegar a la Luna, el Monte Fuji y las estrellas más cercanas al Sol.\n",
        "\n",
        "'''\n",
        "\n",
        "#Approximate pi constant\n",
        "PI = 3.141592653589793\n",
        "\n",
        "def calculate_paper_length(t, target):\n",
        "    \"\"\"\n",
        "    Calculates:\n",
        "      1. The minimum number of folds needed to achieve the target thickness.\n",
        "      2. The length of paper needed to achieve those folds.\n",
        "\n",
        "      Parameters:\n",
        "      - t (float): Initial paper thickness in millimeters.\n",
        "      - target (float): Target thickness (e.g., height of the window) in millimeters.\n",
        "\n",
        "      Returns:\n",
        "      - folds (int): Number of folds needed.\n",
        "      - length (float): Length of paper needed in millimeters.\n",
        "    \"\"\"\n",
        "\n",
        "    #Finding the minimum number of folds\n",
        "    thickness = t\n",
        "    folds = 0\n",
        "\n",
        "    while thickness < target:\n",
        "        thickness *= 2\n",
        "        folds += 1\n",
        "\n",
        "    #Calculate required length using the formula\n",
        "    potency = 2 ** folds\n",
        "    paper_length = (PI * t / 6) * (potency + 4) * (potency - 1)\n",
        "\n",
        "    return folds, paper_length\n",
        "\n",
        "# --------------------\n",
        "# TEST\n",
        "# --------------------\n",
        "\n",
        "# Standard paper thickness: 0.00008 m\n",
        "t = 0.00008\n",
        "\n",
        "# Target 1: Monte Fuji (3776 m)\n",
        "fuji_m = 3776\n",
        "folds_fuji, length_fuji = calculate_paper_length(t, fuji_m)\n",
        "\n",
        "# Objetivo 2: La Luna (~384,400 km = 384,400,000 m)\n",
        "moon_m = 384400000\n",
        "folds_moon, length_moon = calculate_paper_length(t, moon_m)\n",
        "\n",
        "# Objetivo 3: Próxima Centauri (4 años luz ≈ 3.7844e16 m)\n",
        "proxima_m = 3.7844e16\n",
        "folds_proxima, length_proxima = calculate_paper_length(t, proxima_m)\n",
        "\n",
        "# Mostrar resultados\n",
        "print(\"📌 MOUNT FUJI\")\n",
        "print(f\" Required folds: {folds_fuji}\")\n",
        "print(f\" Paper length: {length_fuji:.2e} m\\n\")\n",
        "\n",
        "print(\"🌕 MOON\")\n",
        "print(f\" Folds needed: {folds_moon}\")\n",
        "print(f\" Paper length: {length_moon:.2e} m\\n\")\n",
        "\n",
        "print(\"🌟 NEXT CENTAURI\")\n",
        "print(f\" Required folds: {folds_proxima}\")\n",
        "print(f\" Paper length: {length_proxima:.2e} m\\n\")"
      ],
      "metadata": {
        "colab": {
          "base_uri": "https://localhost:8080/"
        },
        "id": "v07ZXnJsX1nZ",
        "outputId": "3196cf68-e688-4579-c134-2b7c0ba556e1"
      },
      "execution_count": 3,
      "outputs": [
        {
          "output_type": "stream",
          "name": "stdout",
          "text": [
            "📌 MOUNT FUJI\n",
            " Required folds: 26\n",
            " Paper length: 1.89e+11 m\n",
            "\n",
            "🌕 MOON\n",
            " Folds needed: 43\n",
            " Paper length: 3.24e+21 m\n",
            "\n",
            "🌟 NEXT CENTAURI\n",
            " Required folds: 69\n",
            " Paper length: 1.46e+37 m\n",
            "\n"
          ]
        }
      ]
    }
  ]
}