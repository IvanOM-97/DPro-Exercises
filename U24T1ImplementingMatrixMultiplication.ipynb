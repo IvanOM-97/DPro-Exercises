{
  "nbformat": 4,
  "nbformat_minor": 0,
  "metadata": {
    "colab": {
      "provenance": [],
      "authorship_tag": "ABX9TyOQaSKdoMjotAKp2YH8CguC",
      "include_colab_link": true
    },
    "kernelspec": {
      "name": "python3",
      "display_name": "Python 3"
    },
    "language_info": {
      "name": "python"
    }
  },
  "cells": [
    {
      "cell_type": "markdown",
      "metadata": {
        "id": "view-in-github",
        "colab_type": "text"
      },
      "source": [
        "<a href=\"https://colab.research.google.com/github/IvanOM-97/DPro-Exercises/blob/master/U24T1ImplementingMatrixMultiplication.ipynb\" target=\"_parent\"><img src=\"https://colab.research.google.com/assets/colab-badge.svg\" alt=\"Open In Colab\"/></a>"
      ]
    },
    {
      "cell_type": "code",
      "execution_count": null,
      "metadata": {
        "colab": {
          "base_uri": "https://localhost:8080/"
        },
        "id": "gpUV3EQjx1wQ",
        "outputId": "a1a9a7dc-b48c-4c1d-ff44-f883e3af9f46"
      },
      "outputs": [
        {
          "output_type": "stream",
          "name": "stdout",
          "text": [
            "Matrix C = A * B:\n",
            "[6, 29, -20]\n",
            "[12, 52, 38]\n",
            "[-18, -51, -48]\n"
          ]
        }
      ],
      "source": [
        "'''\n",
        "PROBLEMA 1 - ENTENDIENDO EL PRODUCTO DE MATRICES MEDIANTE CALCULO MANUAL\n",
        "Para calcular el producto de matrices manualmente, siga estos pasos:\n",
        "Este es un proceso importante para comprender mejor las operaciones con matrices.\n",
        "- Combine cada fila de la matriz A y cada columna de la matriz B.\n",
        "- Multiplique los elementos correspondientes para obtener la suma de todas las combinaciones.\n",
        "- Mediante la multiplicación y la suma de cada elemento, se obtiene cada elemento de la matriz C.\n",
        "'''\n",
        "\n",
        "# Define matrices A and B manually\n",
        "A = [[-1,  2,  3],\n",
        "     [ 4, -5,  6],\n",
        "     [ 7,  8, -9]]\n",
        "\n",
        "B = [[ 0,  2,  1],\n",
        "     [ 0,  2, -8],\n",
        "     [ 2,  9, -1]]\n",
        "\n",
        "# Initialize result matrix C with zeros\n",
        "C = [[0 for _ in range(3)] for _ in range(3)]\n",
        "\n",
        "# Matrix multiplication process (manual via loops)\n",
        "for i in range(3):  # rows of A\n",
        "    for j in range(3):  # columns of B\n",
        "        total = 0\n",
        "        for k in range(3):  # iterate through elements in the row/column\n",
        "            total += A[i][k] * B[k][j]\n",
        "        C[i][j] = total\n",
        "\n",
        "# Print the resulting matrix\n",
        "print(\"Matrix C = A * B:\")\n",
        "for row in C:\n",
        "    print(row)"
      ]
    },
    {
      "cell_type": "code",
      "source": [
        "'''\n",
        "PROBLEMA 2 - CALCULANDO EL PRODUCTO DE MATRICES UTILZANDO NUMPY\n",
        "'''\n",
        "\n",
        "import numpy as np\n",
        "\n",
        "# Define matrices a and b by numpy\n",
        "a_ndarray = np.array([[-1, 2, 3], [4, -5, 6], [7, 8, -9]])\n",
        "b_ndarray = np.array([[0, 2, 1], [0, 2, -8], [2, 9, -1]])\n",
        "\n",
        "# Calculate the product by MATMUL\n",
        "result = np.matmul(a_ndarray, b_ndarray)\n",
        "print(\"The product of a & b by method .matmul is:\")\n",
        "print(result)\n",
        "\n",
        "# Calculate the product by DOT\n",
        "result_dot = np.dot(a_ndarray, b_ndarray)\n",
        "print(\"The product of a & b by method .dot is:\")\n",
        "print(result_dot)\n",
        "\n",
        "# Other method to calculate the product\n",
        "result_a = a_ndarray @ b_ndarray\n",
        "print(\"The product of a & b is:\")\n",
        "print(result_a)"
      ],
      "metadata": {
        "colab": {
          "base_uri": "https://localhost:8080/"
        },
        "id": "vcr7bn6z_U6O",
        "outputId": "08153688-e00e-425c-d2e1-6b756784433d"
      },
      "execution_count": null,
      "outputs": [
        {
          "output_type": "stream",
          "name": "stdout",
          "text": [
            "The product of a & b by method .matmul is:\n",
            "[[  6  29 -20]\n",
            " [ 12  52  38]\n",
            " [-18 -51 -48]]\n",
            "The product of a & b by method .dot is:\n",
            "[[  6  29 -20]\n",
            " [ 12  52  38]\n",
            " [-18 -51 -48]]\n",
            "The product of a & b is:\n",
            "[[  6  29 -20]\n",
            " [ 12  52  38]\n",
            " [-18 -51 -48]]\n"
          ]
        }
      ]
    },
    {
      "cell_type": "code",
      "source": [
        "'''\n",
        "PROBLEMA 3 - IMPLEMEMNTACION DESDE CERO DE PRODUCTOS MATRICIALES\n",
        "\n",
        "'''\n",
        "import numpy as np\n",
        "\n",
        "# Matrix product process function\n",
        "def matmul_scratch(a, b):\n",
        "    result = np.zeros((a.shape[0], b.shape[1]))  # Create a zero matrix to store the results\n",
        "    for i in range(a.shape[0]):\n",
        "        for j in range(b.shape[1]):\n",
        "            for k in range(a.shape[1]):\n",
        "                result[i, j] += a[i, k] * b[k, j]\n",
        "    return result\n",
        "\n",
        "# Define matrices a and b by numpy\n",
        "a_ndarray = np.array([[-1, 2, 3], [4, -5, 6], [7, 8, -9]])\n",
        "b_ndarray = np.array([[0, 2, 1], [0, 2, -8], [2, 9, -1]])\n",
        "\n",
        "# Calculate the matrix product\n",
        "scratch_result = matmul_scratch(a_ndarray, b_ndarray)\n",
        "\n",
        "print(scratch_result)"
      ],
      "metadata": {
        "colab": {
          "base_uri": "https://localhost:8080/"
        },
        "id": "MBZfnxQrjWUB",
        "outputId": "5cb02b5d-f4c1-4585-9b78-1cf69c8f8fb4"
      },
      "execution_count": null,
      "outputs": [
        {
          "output_type": "stream",
          "name": "stdout",
          "text": [
            "[[  6.  29. -20.]\n",
            " [ 12.  52.  38.]\n",
            " [-18. -51. -48.]]\n"
          ]
        }
      ]
    },
    {
      "cell_type": "code",
      "source": [
        "'''\n",
        "PROBLEMA 4 - QUE SUCEDE CUANDO UN CALCULO NO ESTA DEFINIDO?\n",
        "'''\n",
        "import numpy as np\n",
        "\n",
        "# Define the matrix product test\n",
        "def is_multiplicable(a, b):\n",
        "    if a.shape[1] != b.shape[0]:\n",
        "        print(\"Cannot compute matrix multiplication: number of columns does not match number of rows.\")\n",
        "        return False\n",
        "    return True\n",
        "\n",
        "# Define matrices a and b by numpy\n",
        "a_ndarray = np.array([[-1, 2, 3], [4, -5, 6]])\n",
        "b_ndarray = np.array([[0, 2, -8], [2, 9, -1]])\n",
        "\n",
        "# Verify if the matrices are match\n",
        "if is_multiplicable(a_ndarray, b_ndarray):\n",
        "    print(np.matmul(a_ndarray, b_ndarray))"
      ],
      "metadata": {
        "colab": {
          "base_uri": "https://localhost:8080/"
        },
        "id": "YUsaKJailb04",
        "outputId": "58f80137-5f27-454a-f006-d224b5ef3734"
      },
      "execution_count": null,
      "outputs": [
        {
          "output_type": "stream",
          "name": "stdout",
          "text": [
            "Cannot compute matrix multiplication: number of columns does not match number of rows.\n"
          ]
        }
      ]
    },
    {
      "cell_type": "code",
      "source": [
        "'''\n",
        "PROBLEMA 5 - CALCULO DEL PRODUCTO DE MATRICES POR TRANSPOSICION\n",
        "'''\n",
        "import numpy as np\n",
        "\n",
        "# Define matrices a and b by numpy\n",
        "a_ndarray = np.array([[-1, 2, 3], [4, -5, 6]])\n",
        "b_ndarray = np.array([[0, 2, -8], [2, 9, -1]])\n",
        "\n",
        "# Transpose the matrix b\n",
        "b_transposed = b_ndarray.T\n",
        "result = np.matmul(a_ndarray, b_transposed)\n",
        "\n",
        "print(\"The product of a & b by transpose is:\")\n",
        "print(result)\n"
      ],
      "metadata": {
        "colab": {
          "base_uri": "https://localhost:8080/"
        },
        "id": "Bx_jHmAWpYsE",
        "outputId": "45b1cbd0-10d3-4e61-cfb1-b01c3a88abd2"
      },
      "execution_count": null,
      "outputs": [
        {
          "output_type": "stream",
          "name": "stdout",
          "text": [
            "The product of a & b by transpose is:\n",
            "[[-20  13]\n",
            " [-58 -43]]\n"
          ]
        }
      ]
    }
  ]
}